{
 "cells": [
  {
   "cell_type": "markdown",
   "metadata": {},
   "source": [
    "# Testing citation detection in eyecite"
   ]
  },
  {
   "cell_type": "markdown",
   "metadata": {},
   "source": [
    "The purpose of this notebook is to set up a few tests of eyecite to see which citations it detects, on the way to creating a more formal test suite. This is also a chance to test things like correcting OCR errors."
   ]
  },
  {
   "cell_type": "code",
   "execution_count": 130,
   "metadata": {},
   "outputs": [],
   "source": [
    "from typing import Callable\n",
    "from csv import DictReader\n",
    "import eyecite"
   ]
  },
  {
   "cell_type": "markdown",
   "metadata": {},
   "source": [
    "## Cleanup\n",
    "\n",
    "Set up some functions to do the data cleaning and pre-processing."
   ]
  },
  {
   "cell_type": "code",
   "execution_count": 131,
   "metadata": {},
   "outputs": [],
   "source": [
    "# We need to generate the cleaning function, because we want to read thed data \n",
    "# from a CSV, but eyecite will expect the data to have a particular signature.\n",
    "# So, we capture the data in a closure.\n",
    "def generate_correct_ocr(corrections_file: str) -> Callable[[str], str]:\n",
    "    corrections = dict()\n",
    "    with open(corrections_file, 'r') as file:\n",
    "        csv = DictReader(file)\n",
    "        for row in csv:\n",
    "            corrections[row['mistake']] = row['correction']\n",
    "    \n",
    "    def cleaning_func(text: str) -> str:\n",
    "        for mistake, replacement in corrections.items():\n",
    "            text = text.replace(mistake, replacement)\n",
    "        return text\n",
    "    \n",
    "    return cleaning_func"
   ]
  },
  {
   "cell_type": "markdown",
   "metadata": {},
   "source": [
    "Load the list of OCR corrections from a CSV file in this repo."
   ]
  },
  {
   "cell_type": "code",
   "execution_count": 132,
   "metadata": {},
   "outputs": [],
   "source": [
    "correct_ocr = generate_correct_ocr(\"../data/ocr-errors.csv\")"
   ]
  },
  {
   "cell_type": "markdown",
   "metadata": {},
   "source": [
    "Check that it corrects a simple example."
   ]
  },
  {
   "cell_type": "code",
   "execution_count": 133,
   "metadata": {},
   "outputs": [
    {
     "name": "stdout",
     "output_type": "stream",
     "text": [
      "This is a citation to 12 Wis. 345, a case.\n"
     ]
    }
   ],
   "source": [
    "input = \"This is a citation to 12 Wise. 345, a case.\"\n",
    "output = \"This is a citation to 12 Wis. 345, a case.\"\n",
    "\n",
    "print(correct_ocr(input))\n",
    "\n",
    "assert correct_ocr(input) == output"
   ]
  },
  {
   "cell_type": "markdown",
   "metadata": {},
   "source": [
    "## Eyecite pipline"
   ]
  },
  {
   "cell_type": "markdown",
   "metadata": {},
   "source": [
    "eyecite has some levers and knobs, which we want to use consistently. Create a function that takes a text in and gives the citations back."
   ]
  },
  {
   "cell_type": "code",
   "execution_count": 134,
   "metadata": {},
   "outputs": [],
   "source": [
    "def find_citations(text: str):\n",
    "    text = eyecite.clean_text(text, ['underscores', 'all_whitespace', 'inline_whitespace', correct_ocr])\n",
    "    tokenizer = eyecite.tokenizers.HyperscanTokenizer(cache_dir='/tmp/hyperscan_cache')\n",
    "    citations = eyecite.get_citations(text, tokenizer=tokenizer)\n",
    "    resolutions = eyecite.resolve_citations(citations)\n",
    "    return (citations, resolutions)\n",
    "\n",
    "def print_results(citations, resolutions) -> None:\n",
    "    print(f'Found {len(citations)} citations and resolved them into {len(resolutions)} groups.')\n",
    "    \n",
    "    print('\\nThese are the citations:')\n",
    "    for citation in citations:\n",
    "        print(\"- \" + citation.corrected_citation())\n",
    "    \n",
    "    print('\\nThese are the resolutions:')\n",
    "    for resource in resolutions.keys():\n",
    "        print(\"- \" + resource.citation.corrected_citation())"
   ]
  },
  {
   "cell_type": "markdown",
   "metadata": {},
   "source": [
    "Now let's test that on a simple example, but one where we know we had to make an OCR correction and another where we have to make a whitespace correction."
   ]
  },
  {
   "cell_type": "code",
   "execution_count": 135,
   "metadata": {},
   "outputs": [
    {
     "name": "stdout",
     "output_type": "stream",
     "text": [
      "Input: This is a citation to 12 Wise. 345, a case.\n",
      "\n",
      "Found 1 citations and resolved them into 1 groups.\n",
      "\n",
      "These are the citations:\n",
      "- 12 Wis. 345\n",
      "\n",
      "These are the resolutions:\n",
      "- 12 Wis. 345\n"
     ]
    }
   ],
   "source": [
    "print('Input: ' + input + '\\n')\n",
    "citations, resolutions = find_citations(input)\n",
    "print_results(citations, resolutions)"
   ]
  },
  {
   "cell_type": "markdown",
   "metadata": {},
   "source": [
    "## Sample document test\n",
    "\n",
    "Let's try this on a dummy document for testing purposes."
   ]
  },
  {
   "cell_type": "code",
   "execution_count": 136,
   "metadata": {},
   "outputs": [
    {
     "name": "stdout",
     "output_type": "stream",
     "text": [
      "Found 4 citations and resolved them into 2 groups.\n",
      "\n",
      "These are the citations:\n",
      "- 18 S.C.L. 104\n",
      "- 2 Bail. 104\n",
      "- 2 Bail., 104\n",
      "- 2 Bail. 104\n",
      "\n",
      "These are the resolutions:\n",
      "- 18 S.C.L. 104\n",
      "- 2 Bail. 104\n"
     ]
    }
   ],
   "source": [
    "sample = open(\"../data/pretend-document.txt\").read()\n",
    "citations, resolutions = find_citations(sample)\n",
    "print_results(citations, resolutions)"
   ]
  },
  {
   "cell_type": "markdown",
   "metadata": {},
   "source": [
    "## Test on more formalized examples"
   ]
  },
  {
   "cell_type": "markdown",
   "metadata": {},
   "source": [
    "Let's test this on our more formalized examples.\n",
    "\n",
    "Here is a function that can be used to run through our test data."
   ]
  },
  {
   "cell_type": "code",
   "execution_count": 140,
   "metadata": {},
   "outputs": [
    {
     "name": "stdout",
     "output_type": "stream",
     "text": [
      "\n",
      "    Purpose: OCR correction\n",
      "    ------------------------\n",
      "    Input:    12 Wise. 345\n",
      "    Expected: 12 Wis. 345\n",
      "    Actual:   12 Wis. 345\n",
      "    SUCCESS!\n",
      "    \n",
      "\n",
      "    Purpose: Case sensitivity\n",
      "    ------------------------\n",
      "    Input:    12 wis. 345\n",
      "    Expected: 12 Wis. 345\n",
      "    Actual:   \n",
      "    FAILURE!\n",
      "    \n"
     ]
    }
   ],
   "source": [
    "def test_citation_detection(input: str, expected: str, purpose: str) -> None:\n",
    "    citations, resolutions = find_citations(input)\n",
    "    if len(citations) > 0:\n",
    "        actual = citations[0].corrected_citation()\n",
    "    else:\n",
    "        actual = \"\"\n",
    "    result = \"SUCCESS!\" if actual == expected else \"FAILURE!\"\n",
    "    output = f\"\"\"\n",
    "    Purpose: {purpose}\n",
    "    ------------------------\n",
    "    Input:    {input}\n",
    "    Expected: {expected}\n",
    "    Actual:   {actual}\n",
    "    {result}\n",
    "    \"\"\"\n",
    "    print(output)\n",
    "\n",
    "test_citation_detection(\"12 Wise. 345\", \"12 Wis. 345\", \"OCR correction\")\n",
    "test_citation_detection(\"12 wis. 345\", \"12 Wis. 345\", \"Case sensitivity\")\n"
   ]
  },
  {
   "cell_type": "markdown",
   "metadata": {},
   "source": [
    "Let's run this on the test suite."
   ]
  },
  {
   "cell_type": "code",
   "execution_count": 138,
   "metadata": {},
   "outputs": [
    {
     "name": "stdout",
     "output_type": "stream",
     "text": [
      "\n",
      "    Purpose: Raw identical to normalized\n",
      "    ------------------------\n",
      "    Input:    Caston v. Perry, 18 S.C.L. 104 (1831). \n",
      "    Expected: Caston v. Perry, 18 S.C.L. 104 (1831)\n",
      "    Actual:   18 S.C.L. 104\n",
      "    FAILURE!\n",
      "    \n",
      "\n",
      "    Purpose: Irregular spacing\n",
      "    ------------------------\n",
      "    Input:    Caston v. Perry, 18 S. C.L. 104 (1831)\n",
      "    Expected: Caston v. Perry, 18 S.C.L. 104 (1831)\n",
      "    Actual:   \n",
      "    FAILURE!\n",
      "    \n",
      "\n",
      "    Purpose: Irregular spacing\n",
      "    ------------------------\n",
      "    Input:    Caston v. Perry, 18 S.  C. L. 104 (1831)\n",
      "    Expected: Caston v. Perry, 18 S.C.L. 104 (1831)\n",
      "    Actual:   \n",
      "    FAILURE!\n",
      "    \n",
      "\n",
      "    Purpose: Irregular punctuation\n",
      "    ------------------------\n",
      "    Input:    Caston v. Perry, 18 S C.L. 104 (1831)\n",
      "    Expected: Caston v. Perry, 18 S.C.L. 104 (1831)\n",
      "    Actual:   \n",
      "    FAILURE!\n",
      "    \n",
      "\n",
      "    Purpose: Parallel citation\n",
      "    ------------------------\n",
      "    Input:    Caston v. Perry, 2 Bail. 104 (1831)\n",
      "    Expected: Caston v. Perry, 18 S.C.L. 104 (1831)\n",
      "    Actual:   2 Bail. 104\n",
      "    FAILURE!\n",
      "    \n",
      "\n",
      "    Purpose: Irregular punctuation; parallel citation\n",
      "    ------------------------\n",
      "    Input:    Caston v. Perry, 2 Bail 104 (1831)\n",
      "    Expected: Caston v. Perry, 18 S.C.L. 104 (1831)\n",
      "    Actual:   \n",
      "    FAILURE!\n",
      "    \n",
      "\n",
      "    Purpose: Irregular punctuation; parallel citation\n",
      "    ------------------------\n",
      "    Input:    Caston v. Perry, 2 Bail., 104 (1831)\n",
      "    Expected: Caston v. Perry, 18 S.C.L. 104 (1831)\n",
      "    Actual:   2 Bail., 104\n",
      "    FAILURE!\n",
      "    \n",
      "\n",
      "    Purpose: Irregular punctuation; parallel citation\n",
      "    ------------------------\n",
      "    Input:    Caston v. Perry, 2 Bail.. 104 (1831)\n",
      "    Expected: Caston v. Perry, 18 S.C.L. 104 (1831)\n",
      "    Actual:   \n",
      "    FAILURE!\n",
      "    \n",
      "\n",
      "    Purpose: Irregular punctuation; parallel citation\n",
      "    ------------------------\n",
      "    Input:    Caston v. Perry, 2 Bail, 104 (1831)\n",
      "    Expected: Caston v. Perry, 18 S.C.L. 104 (1831)\n",
      "    Actual:   \n",
      "    FAILURE!\n",
      "    \n",
      "\n",
      "    Purpose: Irregular caps; parellel citation\n",
      "    ------------------------\n",
      "    Input:    Caston v. Perry, 2 bail. 104 (1831)\n",
      "    Expected: Caston v. Perry, 18 S.C.L. 104 (1831)\n",
      "    Actual:   \n",
      "    FAILURE!\n",
      "    \n",
      "\n",
      "    Purpose: Irregular caps; parellel citation\n",
      "    ------------------------\n",
      "    Input:    Caston v. Perry, 2 bAIl. 104 (1831)\n",
      "    Expected: Caston v. Perry, 18 S.C.L. 104 (1831)\n",
      "    Actual:   \n",
      "    FAILURE!\n",
      "    \n",
      "\n",
      "    Purpose: Irregular punctuation\n",
      "    ------------------------\n",
      "    Input:    Caston v. Perry, 18 S.C..L. 104 (1831)\n",
      "    Expected: Caston v. Perry, 18 S.C.L. 104 (1831)\n",
      "    Actual:   \n",
      "    FAILURE!\n",
      "    \n",
      "\n",
      "    Purpose: Irregular punctuation\n",
      "    ------------------------\n",
      "    Input:    Caston v. Perry, 18 S.C.L.. 104 (1831)\n",
      "    Expected: Caston v. Perry, 18 S.C.L. 104 (1831)\n",
      "    Actual:   \n",
      "    FAILURE!\n",
      "    \n",
      "\n",
      "    Purpose: Irregular spacing\n",
      "    ------------------------\n",
      "    Input:    Caston v. Perry, 18 S.C. L. 104 (1831)\n",
      "    Expected: Caston v. Perry, 18 S.C.L. 104 (1831)\n",
      "    Actual:   \n",
      "    FAILURE!\n",
      "    \n",
      "\n",
      "    Purpose: Irregular spacing\n",
      "    ------------------------\n",
      "    Input:    Caston v. Perry, 18   S.   C.   L.   104 (1831)\n",
      "    Expected: Caston v. Perry, 18 S.C.L. 104 (1831)\n",
      "    Actual:   \n",
      "    FAILURE!\n",
      "    \n"
     ]
    }
   ],
   "source": [
    "with open(\"../data/citation-detection-tests.csv\", 'r') as file:\n",
    "        csv = DictReader(file)\n",
    "        for row in csv:\n",
    "            test_citation_detection(row['raw'], row['normalized'], row['test_purpose'])"
   ]
  },
  {
   "cell_type": "markdown",
   "metadata": {},
   "source": [
    "It does appear, though, that our approach to fixing whitespace is not working."
   ]
  },
  {
   "cell_type": "code",
   "execution_count": 139,
   "metadata": {},
   "outputs": [
    {
     "name": "stdout",
     "output_type": "stream",
     "text": [
      "Caston v. Perry, 18 S. C. L. 104 (1831)\n"
     ]
    }
   ],
   "source": [
    "too_many_spaces = 'Caston v. Perry, 18   S.   C.   L.   104 (1831)'\n",
    "text = eyecite.clean_text(too_many_spaces, ['underscores', 'all_whitespace', 'inline_whitespace', correct_ocr])\n",
    "print(text)"
   ]
  },
  {
   "cell_type": "markdown",
   "metadata": {},
   "source": [
    "Presumably eyecite only recognizes `S.C.L.` not `S. C. L.`"
   ]
  },
  {
   "cell_type": "markdown",
   "metadata": {},
   "source": [
    "Most of these tests fail but that's something to fix later."
   ]
  }
 ],
 "metadata": {
  "interpreter": {
   "hash": "aee8b7b246df8f9039afb4144a1f6fd8d2ca17a180786b69acc140d282b71a49"
  },
  "kernelspec": {
   "display_name": "Python 3.9.7 64-bit",
   "language": "python",
   "name": "python3"
  },
  "language_info": {
   "codemirror_mode": {
    "name": "ipython",
    "version": 3
   },
   "file_extension": ".py",
   "mimetype": "text/x-python",
   "name": "python",
   "nbconvert_exporter": "python",
   "pygments_lexer": "ipython3",
   "version": "3.9.7"
  },
  "orig_nbformat": 4
 },
 "nbformat": 4,
 "nbformat_minor": 2
}
